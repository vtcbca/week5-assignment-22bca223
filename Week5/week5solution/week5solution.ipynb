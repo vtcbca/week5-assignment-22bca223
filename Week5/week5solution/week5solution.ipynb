{
 "cells": [
  {
   "cell_type": "code",
   "execution_count": 1,
   "id": "26500576",
   "metadata": {},
   "outputs": [],
   "source": [
    "import csv"
   ]
  },
  {
   "cell_type": "code",
   "execution_count": 2,
   "id": "1a8e4866",
   "metadata": {},
   "outputs": [],
   "source": [
    "s=['sid','sname','city','contact']"
   ]
  },
  {
   "cell_type": "code",
   "execution_count": 3,
   "id": "2dc0f221",
   "metadata": {},
   "outputs": [],
   "source": [
    "records=[[1,'narayan','ahemdabed',7632590102],\n",
    "         [2,'jaydeep','bardoli',9722955429],\n",
    "         [3,'niraj','surat',9026763218],\n",
    "         [4,'dhruv','bharuch',5656521478],\n",
    "         [5,'lakhan','surat',693006761]]\n",
    "p=[]"
   ]
  },
  {
   "cell_type": "code",
   "execution_count": 4,
   "id": "3bed606d",
   "metadata": {},
   "outputs": [
    {
     "name": "stdout",
     "output_type": "stream",
     "text": [
      "enter student id:6\n",
      "enter student name:yatin\n",
      "enter student city:pune\n",
      "enter student contact number:9786090910\n",
      "enter student id:7\n",
      "enter student name:sandeep\n",
      "enter student city:jaipur\n",
      "enter student contact number:9017790384\n",
      "enter student id:8\n",
      "enter student name:naman\n",
      "enter student city:kadodara\n",
      "enter student contact number:1234098756\n",
      "enter student id:9\n",
      "enter student name:ganesh\n",
      "enter student city:udaipur\n",
      "enter student contact number:0987123465\n",
      "enter student id:10\n",
      "enter student name:krunal\n",
      "enter student city:gandhinagar\n",
      "enter student contact number:5674839201\n"
     ]
    }
   ],
   "source": [
    "for i in range(5):\n",
    "    sid=int(input(\"enter student id:\"))\n",
    "    sname=input(\"enter student name:\")\n",
    "    city=input(\"enter student city:\")\n",
    "    contact=int(input(\"enter student contact number:\"))\n",
    "    l=[sid,sname,city,contact]\n",
    "    p.append(l)"
   ]
  },
  {
   "cell_type": "code",
   "execution_count": 5,
   "id": "3cbf02bc",
   "metadata": {},
   "outputs": [],
   "source": [
    "with open('C:\\sqlite3\\student.csv','w',newline='') as f:\n",
    "    file=csv.writer(f)\n",
    "    file.writerow(s)\n",
    "    file.writerows(records)\n",
    "    file.writerows(p)"
   ]
  },
  {
   "cell_type": "code",
   "execution_count": 6,
   "id": "0a23da5c",
   "metadata": {},
   "outputs": [
    {
     "name": "stdout",
     "output_type": "stream",
     "text": [
      "['sid', 'sname', 'city', 'contact']\n",
      "['1', 'narayan', 'ahemdabed', '7632590102']\n",
      "['2', 'jaydeep', 'bardoli', '9722955429']\n",
      "['3', 'niraj', 'surat', '9026763218']\n",
      "['4', 'dhruv', 'bharuch', '5656521478']\n",
      "['5', 'lakhan', 'surat', '693006761']\n",
      "['6', 'yatin', 'pune', '9786090910']\n",
      "['7', 'sandeep', 'jaipur', '9017790384']\n",
      "['8', 'naman', 'kadodara', '1234098756']\n",
      "['9', 'ganesh', 'udaipur', '987123465']\n",
      "['10', 'krunal', 'gandhinagar', '5674839201']\n"
     ]
    }
   ],
   "source": [
    "with open('C:\\sqlite3\\student.csv','r',newline='') as read:\n",
    "    all_record=csv.reader(read)\n",
    "    for records in all_record:\n",
    "        print(records)"
   ]
  },
  {
   "cell_type": "code",
   "execution_count": null,
   "id": "6c8ba939",
   "metadata": {},
   "outputs": [],
   "source": []
  }
 ],
 "metadata": {
  "kernelspec": {
   "display_name": "Python 3 (ipykernel)",
   "language": "python",
   "name": "python3"
  },
  "language_info": {
   "codemirror_mode": {
    "name": "ipython",
    "version": 3
   },
   "file_extension": ".py",
   "mimetype": "text/x-python",
   "name": "python",
   "nbconvert_exporter": "python",
   "pygments_lexer": "ipython3",
   "version": "3.11.4"
  }
 },
 "nbformat": 4,
 "nbformat_minor": 5
}
